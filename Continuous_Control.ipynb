{
 "cells": [
  {
   "cell_type": "markdown",
   "metadata": {},
   "source": [
    "# Continuous Control\n",
    "\n",
    "---\n",
    "\n",
    "In this notebook, you will learn how to use the Unity ML-Agents environment for the second project of the [Deep Reinforcement Learning Nanodegree](https://www.udacity.com/course/deep-reinforcement-learning-nanodegree--nd893) program.\n",
    "\n",
    "### 1. Start the Environment\n",
    "\n",
    "We begin by importing the necessary packages.  If the code cell below returns an error, please revisit the project instructions to double-check that you have installed [Unity ML-Agents](https://github.com/Unity-Technologies/ml-agents/blob/master/docs/Installation.md) and [NumPy](http://www.numpy.org/)."
   ]
  },
  {
   "cell_type": "code",
   "execution_count": 1,
   "metadata": {},
   "outputs": [],
   "source": [
    "from unityagents import UnityEnvironment\n",
    "import numpy as np\n",
    "import matplotlib.pyplot as plt\n",
    "import numpy as np\n",
    "import torch\n",
    "\n",
    "from config import DDPGConfig, DDPGPERConfig\n",
    "from ddpg import DDPG\n",
    "from environment import UnityGymAdapter\n",
    "from models import Actor"
   ]
  },
  {
   "cell_type": "markdown",
   "metadata": {},
   "source": [
    "Next, we will start the environment!  **_Before running the code cell below_**, change the `file_name` parameter to match the location of the Unity environment that you downloaded.\n",
    "\n",
    "- **Mac**: `\"path/to/Reacher.app\"`\n",
    "- **Windows** (x86): `\"path/to/Reacher_Windows_x86/Reacher.exe\"`\n",
    "- **Windows** (x86_64): `\"path/to/Reacher_Windows_x86_64/Reacher.exe\"`\n",
    "- **Linux** (x86): `\"path/to/Reacher_Linux/Reacher.x86\"`\n",
    "- **Linux** (x86_64): `\"path/to/Reacher_Linux/Reacher.x86_64\"`\n",
    "- **Linux** (x86, headless): `\"path/to/Reacher_Linux_NoVis/Reacher.x86\"`\n",
    "- **Linux** (x86_64, headless): `\"path/to/Reacher_Linux_NoVis/Reacher.x86_64\"`\n",
    "\n",
    "For instance, if you are using a Mac, then you downloaded `Reacher.app`.  If this file is in the same folder as the notebook, then the line below should appear as follows:\n",
    "```\n",
    "env = UnityEnvironment(file_name=\"Reacher.app\")\n",
    "```"
   ]
  },
  {
   "cell_type": "code",
   "execution_count": 2,
   "metadata": {},
   "outputs": [
    {
     "name": "stderr",
     "output_type": "stream",
     "text": [
      "INFO:unityagents:\n",
      "'Academy' started successfully!\n",
      "Unity Academy name: Academy\n",
      "        Number of Brains: 1\n",
      "        Number of External Brains : 1\n",
      "        Lesson number : 0\n",
      "        Reset Parameters :\n",
      "\t\tgoal_speed -> 1.0\n",
      "\t\tgoal_size -> 5.0\n",
      "Unity brain name: ReacherBrain\n",
      "        Number of Visual Observations (per agent): 0\n",
      "        Vector Observation space type: continuous\n",
      "        Vector Observation space size (per agent): 33\n",
      "        Number of stacked Vector Observation: 1\n",
      "        Vector Action space type: continuous\n",
      "        Vector Action space size (per agent): 4\n",
      "        Vector Action descriptions: , , , \n"
     ]
    }
   ],
   "source": [
    "env = UnityEnvironment(file_name='Reacher_Linux/Reacher.x86_64')"
   ]
  },
  {
   "cell_type": "markdown",
   "metadata": {},
   "source": [
    "Environments contain **_brains_** which are responsible for deciding the actions of their associated agents. Here we check for the first brain available, and set it as the default brain we will be controlling from Python."
   ]
  },
  {
   "cell_type": "code",
   "execution_count": 3,
   "metadata": {},
   "outputs": [],
   "source": [
    "# get the default brain\n",
    "brain_name = env.brain_names[0]\n",
    "brain = env.brains[brain_name]"
   ]
  },
  {
   "cell_type": "markdown",
   "metadata": {},
   "source": [
    "### 2. Examine the State and Action Spaces\n",
    "\n",
    "In this environment, a double-jointed arm can move to target locations. A reward of `+0.1` is provided for each step that the agent's hand is in the goal location. Thus, the goal of your agent is to maintain its position at the target location for as many time steps as possible.\n",
    "\n",
    "The observation space consists of `33` variables corresponding to position, rotation, velocity, and angular velocities of the arm.  Each action is a vector with four numbers, corresponding to torque applicable to two joints.  Every entry in the action vector must be a number between `-1` and `1`.\n",
    "\n",
    "Run the code cell below to print some information about the environment."
   ]
  },
  {
   "cell_type": "code",
   "execution_count": 4,
   "metadata": {},
   "outputs": [
    {
     "name": "stdout",
     "output_type": "stream",
     "text": [
      "Number of agents: 20\n",
      "Size of each action: 4\n",
      "There are 20 agents. Each observes a state with length: 33\n",
      "The state for the first agent looks like: [ 0.00000000e+00 -4.00000000e+00  0.00000000e+00  1.00000000e+00\n",
      " -0.00000000e+00 -0.00000000e+00 -4.37113883e-08  0.00000000e+00\n",
      "  0.00000000e+00  0.00000000e+00  0.00000000e+00  0.00000000e+00\n",
      "  0.00000000e+00  0.00000000e+00 -1.00000000e+01  0.00000000e+00\n",
      "  1.00000000e+00 -0.00000000e+00 -0.00000000e+00 -4.37113883e-08\n",
      "  0.00000000e+00  0.00000000e+00  0.00000000e+00  0.00000000e+00\n",
      "  0.00000000e+00  0.00000000e+00  5.75471878e+00 -1.00000000e+00\n",
      "  5.55726624e+00  0.00000000e+00  1.00000000e+00  0.00000000e+00\n",
      " -1.68164849e-01]\n"
     ]
    }
   ],
   "source": [
    "# reset the environment\n",
    "env_info = env.reset(train_mode=True)[brain_name]\n",
    "\n",
    "# number of agents\n",
    "num_agents = len(env_info.agents)\n",
    "print('Number of agents:', num_agents)\n",
    "\n",
    "# size of each action\n",
    "action_size = brain.vector_action_space_size\n",
    "print('Size of each action:', action_size)\n",
    "\n",
    "# examine the state space \n",
    "states = env_info.vector_observations\n",
    "state_size = states.shape[1]\n",
    "print('There are {} agents. Each observes a state with length: {}'.format(states.shape[0], state_size))\n",
    "print('The state for the first agent looks like:', states[0])"
   ]
  },
  {
   "cell_type": "markdown",
   "metadata": {},
   "source": [
    "### 3. Take Random Actions in the Environment\n",
    "\n",
    "In the next code cell, you will learn how to use the Python API to control the agent and receive feedback from the environment.\n",
    "\n",
    "Once this cell is executed, you will watch the agent's performance, if it selects an action at random with each time step.  A window should pop up that allows you to observe the agent, as it moves through the environment.  \n",
    "\n",
    "Of course, as part of the project, you'll have to change the code so that the agent is able to use its experience to gradually choose better actions when interacting with the environment!"
   ]
  },
  {
   "cell_type": "code",
   "execution_count": 5,
   "metadata": {},
   "outputs": [
    {
     "name": "stdout",
     "output_type": "stream",
     "text": [
      "Total score (averaged over agents) this episode: 0.13199999704957008\n"
     ]
    }
   ],
   "source": [
    "env_info = env.reset(train_mode=False)[brain_name]     # reset the environment    \n",
    "states = env_info.vector_observations                  # get the current state (for each agent)\n",
    "scores = np.zeros(num_agents)                          # initialize the score (for each agent)\n",
    "while True:\n",
    "    actions = np.random.randn(num_agents, action_size) # select an action (for each agent)\n",
    "    actions = np.clip(actions, -1, 1)                  # all actions between -1 and 1\n",
    "    env_info = env.step(actions)[brain_name]           # send all actions to tne environment\n",
    "    next_states = env_info.vector_observations         # get next state (for each agent)\n",
    "    rewards = env_info.rewards                         # get reward (for each agent)\n",
    "    dones = env_info.local_done                        # see if episode finished\n",
    "    scores += env_info.rewards                         # update the score (for each agent)\n",
    "    states = next_states                               # roll over states to next time step\n",
    "    if np.any(dones):                                  # exit loop if episode finished\n",
    "        break\n",
    "print('Total score (averaged over agents) this episode: {}'.format(np.mean(scores)))"
   ]
  },
  {
   "cell_type": "markdown",
   "metadata": {},
   "source": [
    "### 4. It's Your Turn!\n",
    "\n",
    "Now it's your turn to train your own agent to solve the environment!  When training the environment, set `train_mode=True`, so that the line for resetting the environment looks like the following:\n",
    "```python\n",
    "env_info = env.reset(train_mode=True)[brain_name]\n",
    "```"
   ]
  },
  {
   "cell_type": "code",
   "execution_count": 6,
   "metadata": {},
   "outputs": [],
   "source": [
    "# Instanciate environment - Uncomment if you don't already have an env running\n",
    "# env = UnityEnvironment(file_name=\"Reacher_Linux/Reacher.x86_64\")\n",
    "# Wraps environment to have gym-like API\n",
    "env = UnityGymAdapter(env)\n",
    "\n",
    "# Define training configurations\n",
    "configs = {\"Vanilla\": DDPGConfig(), \"Prioritized\": DDPGPERConfig()}\n",
    "# Instantiate scores dict, which will contain sores for each config\n",
    "scores = {}"
   ]
  },
  {
   "cell_type": "code",
   "execution_count": 7,
   "metadata": {},
   "outputs": [
    {
     "name": "stdout",
     "output_type": "stream",
     "text": [
      "\n",
      "Training: Vanilla\n",
      "Episode 9\tAverage Score: 0.25, Last Score: 0.37\n",
      "Episode 19\tAverage Score: 0.23, Last Score: 0.48\n",
      "Episode 29\tAverage Score: 0.33, Last Score: 0.28\n",
      "Episode 39\tAverage Score: 0.56, Last Score: 2.07\n",
      "Episode 49\tAverage Score: 1.20, Last Score: 4.44\n",
      "Episode 59\tAverage Score: 1.87, Last Score: 6.59\n",
      "Episode 69\tAverage Score: 4.00, Last Score: 26.88\n",
      "Episode 79\tAverage Score: 7.53, Last Score: 34.53\n",
      "Episode 89\tAverage Score: 10.78, Last Score: 38.95\n",
      "Episode 99\tAverage Score: 13.50, Last Score: 37.11\n",
      "Episode 109\tAverage Score: 17.14, Last Score: 37.00\n",
      "Episode 119\tAverage Score: 20.69, Last Score: 33.43\n",
      "Episode 129\tAverage Score: 24.13, Last Score: 36.46\n",
      "Episode 139\tAverage Score: 27.46, Last Score: 34.02\n",
      "Episode 149\tAverage Score: 30.62, Last Score: 37.12\n",
      "Episode 159\tAverage Score: 33.85, Last Score: 37.40\n",
      "Episode 169\tAverage Score: 35.62, Last Score: 34.34\n",
      "Episode 179\tAverage Score: 35.42, Last Score: 34.39\n",
      "Episode 189\tAverage Score: 35.27, Last Score: 38.08\n",
      "Episode 199\tAverage Score: 34.65, Last Score: 27.84\n",
      "\n",
      "Training: Prioritized\n",
      "Episode 9\tAverage Score: 0.36, Last Score: 0.35\n",
      "Episode 19\tAverage Score: 0.61, Last Score: 1.09\n",
      "Episode 29\tAverage Score: 0.87, Last Score: 2.00\n",
      "Episode 39\tAverage Score: 1.36, Last Score: 3.09\n",
      "Episode 49\tAverage Score: 2.57, Last Score: 12.20\n",
      "Episode 59\tAverage Score: 4.50, Last Score: 17.61\n",
      "Episode 69\tAverage Score: 6.23, Last Score: 23.41\n",
      "Episode 79\tAverage Score: 9.91, Last Score: 38.02\n",
      "Episode 89\tAverage Score: 12.01, Last Score: 24.39\n",
      "Episode 99\tAverage Score: 14.23, Last Score: 32.87\n",
      "Episode 109\tAverage Score: 17.65, Last Score: 36.75\n",
      "Episode 119\tAverage Score: 20.93, Last Score: 34.27\n",
      "Episode 129\tAverage Score: 22.82, Last Score: 23.93\n",
      "Episode 139\tAverage Score: 25.47, Last Score: 26.14\n",
      "Episode 149\tAverage Score: 27.80, Last Score: 35.92\n",
      "Episode 159\tAverage Score: 29.74, Last Score: 26.37\n",
      "Episode 169\tAverage Score: 31.03, Last Score: 30.64\n",
      "Episode 179\tAverage Score: 29.60, Last Score: 30.06\n",
      "Episode 189\tAverage Score: 29.54, Last Score: 37.57\n",
      "Episode 199\tAverage Score: 29.12, Last Score: 23.48\n"
     ]
    }
   ],
   "source": [
    "# Train each config for 500 epochs\n",
    "for name, config in configs.items():\n",
    "    print(f\"\\nTraining: {name}\")\n",
    "    agent = DDPG(env.state_size, env.action_size, config)\n",
    "    scores[name] = agent.train(env, 200)\n",
    "    agent.save_model(name.lower().replace(\" \", \"_\") + '.pt')"
   ]
  },
  {
   "cell_type": "code",
   "execution_count": 8,
   "metadata": {},
   "outputs": [
    {
     "data": {
      "image/png": "[encoded data removed]",
      "text/plain": [
       "<Figure size 432x288 with 1 Axes>"
      ]
     },
     "metadata": {
      "needs_background": "light"
     },
     "output_type": "display_data"
    }
   ],
   "source": [
    "# plot the scores\n",
    "fig = plt.figure()\n",
    "ax = fig.add_subplot(111)\n",
    "for name, score in scores.items():\n",
    "    plt.plot(np.arange(len(score)), score, label=name)\n",
    "plt.axhline(y=30, linestyle='--', color='black', linewidth=1)\n",
    "plt.legend()\n",
    "plt.ylabel(\"Score\")\n",
    "plt.xlabel(\"Episode #\")\n",
    "plt.show()"
   ]
  },
  {
   "cell_type": "code",
   "execution_count": 9,
   "metadata": {},
   "outputs": [
    {
     "name": "stdout",
     "output_type": "stream",
     "text": [
      "Vanilla solved the environment in 148 episode\n",
      "Prioritized solved the environment in 161 episode\n"
     ]
    }
   ],
   "source": [
    "for name in configs:\n",
    "    t = np.argmax(np.where(np.array(scores[name])>30, 1, 0))\n",
    "    if t>0:\n",
    "        print(f\"{name} solved the environment in {t} episode\")\n",
    "    else:\n",
    "        print(f\"{name} did not solve the environment\")"
   ]
  },
  {
   "cell_type": "markdown",
   "metadata": {},
   "source": [
    "### 5. Render Agent\n",
    "\n",
    "Now it is time to render the agent !"
   ]
  },
  {
   "cell_type": "code",
   "execution_count": 10,
   "metadata": {},
   "outputs": [
    {
     "data": {
      "text/plain": [
       "Actor(\n",
       "  (fc1): Linear(in_features=33, out_features=128, bias=True)\n",
       "  (fc2): Linear(in_features=128, out_features=128, bias=True)\n",
       "  (fc3): Linear(in_features=128, out_features=64, bias=True)\n",
       "  (fc4): Linear(in_features=64, out_features=4, bias=True)\n",
       "  (bn1): BatchNorm1d(128, eps=1e-05, momentum=0.1, affine=True, track_running_stats=True)\n",
       ")"
      ]
     },
     "execution_count": 10,
     "metadata": {},
     "output_type": "execute_result"
    }
   ],
   "source": [
    "# Chose one of Vanilla, Prioritized\n",
    "config = \"Vanilla\"\n",
    "\n",
    "file_name = config.lower().replace(\" \", \"_\") + \".pt\"\n",
    "\n",
    "# Load model\n",
    "model = Actor(env.state_size, env.action_size, 0) \n",
    "model.load_state_dict(torch.load(file_name, map_location=\"cpu\"))\n",
    "model.eval()"
   ]
  },
  {
   "cell_type": "code",
   "execution_count": 11,
   "metadata": {},
   "outputs": [],
   "source": [
    "def get_actions(model, states):\n",
    "        states = torch.from_numpy(states).float().unsqueeze(0)\n",
    "\n",
    "        actions = []\n",
    "        with torch.no_grad():\n",
    "            for state in states:\n",
    "                action = model(state)\n",
    "                actions.append(action.detach().numpy())\n",
    "\n",
    "        return np.array(actions).squeeze()"
   ]
  },
  {
   "cell_type": "code",
   "execution_count": 12,
   "metadata": {},
   "outputs": [
    {
     "name": "stdout",
     "output_type": "stream",
     "text": [
      "Score: 28.56049936162308\n"
     ]
    }
   ],
   "source": [
    "states = env.reset(train_mode=False)               # reset the environment\n",
    "score = 0                                          # initialize the score\n",
    "while True:\n",
    "    action = get_actions(model, states)\n",
    "    next_states, rewards, dones = env.step(action)   \n",
    "    score += np.mean(rewards)    \n",
    "    states = next_states                             \n",
    "    if any(dones):                                       \n",
    "        break\n",
    "    \n",
    "print(\"Score: {}\".format(score))"
   ]
  },
  {
   "cell_type": "code",
   "execution_count": 13,
   "metadata": {},
   "outputs": [],
   "source": [
    "env.close()"
   ]
  }
 ],
 "metadata": {
  "kernelspec": {
   "display_name": "Python 3",
   "language": "python",
   "name": "python3"
  },
  "language_info": {
   "codemirror_mode": {
    "name": "ipython",
    "version": 3
   },
   "file_extension": ".py",
   "mimetype": "text/x-python",
   "name": "python",
   "nbconvert_exporter": "python",
   "pygments_lexer": "ipython3",
   "version": "3.6.12"
  }
 },
 "nbformat": 4,
 "nbformat_minor": 4
}
